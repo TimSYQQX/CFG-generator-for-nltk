{
 "cells": [
  {
   "cell_type": "code",
   "execution_count": 1,
   "metadata": {},
   "outputs": [],
   "source": [
    "import nltk\n",
    "from CFGTree import *"
   ]
  },
  {
   "cell_type": "markdown",
   "metadata": {},
   "source": [
    "### Node Assignment"
   ]
  },
  {
   "cell_type": "code",
   "execution_count": 2,
   "metadata": {},
   "outputs": [],
   "source": [
    "s = Node(\"Sentence\")\n",
    "np = Node(\"NounPhrase\")\n",
    "vp = Node(\"VerbPhrase\")\n",
    "pp = Node(\"PrepositionalPhrase\")\n",
    "n = Node(\"Noun\")\n",
    "v = Node(\"Verb\")\n",
    "p = Node(\"Preposition\")\n",
    "adv = Node(\"Adverb\")\n",
    "adj = Node(\"Adjective\")"
   ]
  },
  {
   "cell_type": "code",
   "execution_count": 3,
   "metadata": {},
   "outputs": [],
   "source": [
    "s.ext_comb([[(np,), vp]]) # use tuple to represent optional components\n",
    "np.ext_comb([[(adj,), n]])\n",
    "vp.ext_comb([[v, np, (adv, pp)]]) # all combinations(unordered) in the tuple will be generated\n",
    "pp.ext_comb([[p, np]])"
   ]
  },
  {
   "cell_type": "code",
   "execution_count": 4,
   "metadata": {},
   "outputs": [
    {
     "data": {
      "text/plain": [
       "'VerbPhrase -> Verb NounPhrase PrepositionalPhrase Adverb \\nVerbPhrase -> Verb NounPhrase PrepositionalPhrase \\nVerbPhrase -> Verb NounPhrase Adverb PrepositionalPhrase \\nVerbPhrase -> Verb NounPhrase Adverb \\nVerbPhrase -> Verb NounPhrase \\nNounPhrase -> Adjective Noun \\nNounPhrase -> Noun \\nPrepositionalPhrase -> Preposition NounPhrase \\n'"
      ]
     },
     "execution_count": 4,
     "metadata": {},
     "output_type": "execute_result"
    }
   ],
   "source": [
    "print(s)"
   ]
  },
  {
   "cell_type": "markdown",
   "metadata": {},
   "source": [
    "### Word Assignment"
   ]
  },
  {
   "cell_type": "code",
   "execution_count": 5,
   "metadata": {},
   "outputs": [],
   "source": [
    "v.add_word(\"eat\") # a node can't have combination and word at the same time\n",
    "n.add_word(\"Bob fish sauce\")\n",
    "p.add_word(\"with\")\n",
    "adv.add_word(\"slowly\")\n",
    "adj.add_word(\"delicious\")"
   ]
  },
  {
   "cell_type": "code",
   "execution_count": 6,
   "metadata": {},
   "outputs": [
    {
     "name": "stdout",
     "output_type": "stream",
     "text": [
      "[[Verb, NounPhrase, (Adverb, PrepositionalPhrase)]]\n"
     ]
    }
   ],
   "source": [
    "print(s)"
   ]
  },
  {
   "cell_type": "code",
   "execution_count": 7,
   "metadata": {},
   "outputs": [],
   "source": [
    "parser = s.get_parser()"
   ]
  },
  {
   "cell_type": "code",
   "execution_count": 8,
   "metadata": {},
   "outputs": [],
   "source": [
    "chart = parser.parse(\"Bob eat fish slowly with delicious sauce\".split())"
   ]
  },
  {
   "cell_type": "code",
   "execution_count": 9,
   "metadata": {},
   "outputs": [
    {
     "name": "stdout",
     "output_type": "stream",
     "text": [
      "(Sentence\n",
      "  (NounPhrase (Noun Bob))\n",
      "  (VerbPhrase\n",
      "    (Verb eat)\n",
      "    (NounPhrase (Noun fish))\n",
      "    (Adverb slowly)\n",
      "    (PrepositionalPhrase\n",
      "      (Preposition with)\n",
      "      (NounPhrase (Adjective delicious) (Noun sauce)))))\n"
     ]
    }
   ],
   "source": [
    "for x in chart:\n",
    "    print(x)"
   ]
  },
  {
   "cell_type": "markdown",
   "metadata": {},
   "source": [
    "### Saving Context Free Grammar"
   ]
  },
  {
   "cell_type": "code",
   "execution_count": 10,
   "metadata": {},
   "outputs": [],
   "source": [
    "s.save()"
   ]
  }
 ],
 "metadata": {
  "kernelspec": {
   "display_name": "base",
   "language": "python",
   "name": "base"
  },
  "language_info": {
   "codemirror_mode": {
    "name": "ipython",
    "version": 3
   },
   "file_extension": ".py",
   "mimetype": "text/x-python",
   "name": "python",
   "nbconvert_exporter": "python",
   "pygments_lexer": "ipython3",
   "version": "3.7.1"
  },
  "neptune": {
   "notebookId": "d9ffe94b-8f89-4d01-bae0-6c1f16298817"
  }
 },
 "nbformat": 4,
 "nbformat_minor": 4
}
