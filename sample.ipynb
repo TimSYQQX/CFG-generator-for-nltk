{
 "cells": [
  {
   "cell_type": "code",
   "execution_count": 1,
   "metadata": {},
   "outputs": [],
   "source": [
    "import nltk\n",
    "from CFGTree import *"
   ]
  },
  {
   "cell_type": "markdown",
   "metadata": {},
   "source": [
    "### Node Assignment"
   ]
  },
  {
   "cell_type": "code",
   "execution_count": 2,
   "metadata": {},
   "outputs": [],
   "source": [
    "s = Node(\"Sentence\")\n",
    "np = Node(\"NounPhrase\")\n",
    "vp = Node(\"VerbPhrase\")\n",
    "pp = Node(\"PrepositionalPhrase\")\n",
    "n = Node(\"Noun\")\n",
    "v = Node(\"Verb\")\n",
    "p = Node(\"Preposition\")\n",
    "adv = Node(\"Adverb\")\n",
    "adj = Node(\"Adjective\")"
   ]
  },
  {
   "cell_type": "code",
   "execution_count": 3,
   "metadata": {},
   "outputs": [],
   "source": [
    "s.ext_comb([[np, vp], [vp]])\n",
    "np.ext_comb([[(adj), n]])\n",
    "vp.ext_comb([[v, (adv, pp), np]])\n",
    "pp.ext_comb([[p, np]])"
   ]
  },
  {
   "cell_type": "code",
   "execution_count": 4,
   "metadata": {},
   "outputs": [
    {
     "name": "stdout",
     "output_type": "stream",
     "text": [
      "Sentence -> NounPhrase VerbPhrase \n",
      "Sentence -> VerbPhrase \n",
      "NounPhrase -> Adjective Noun \n",
      "VerbPhrase -> Verb NounPhrase \n",
      "VerbPhrase -> Verb Adverb NounPhrase \n",
      "VerbPhrase -> Verb PrepositionalPhrase NounPhrase \n",
      "VerbPhrase -> Verb Adverb PrepositionalPhrase NounPhrase \n",
      "VerbPhrase -> Verb NounPhrase \n",
      "VerbPhrase -> Verb PrepositionalPhrase NounPhrase \n",
      "VerbPhrase -> Verb Adverb NounPhrase \n",
      "VerbPhrase -> Verb PrepositionalPhrase Adverb NounPhrase \n",
      "PrepositionalPhrase -> Preposition NounPhrase \n",
      "\n"
     ]
    }
   ],
   "source": [
    "print(s)"
   ]
  },
  {
   "cell_type": "markdown",
   "metadata": {},
   "source": [
    "### Word Assignment"
   ]
  },
  {
   "cell_type": "code",
   "execution_count": 5,
   "metadata": {},
   "outputs": [],
   "source": [
    "v.add_child(\"eat\")\n",
    "n.add_child(\"Bob fish sauce\")\n",
    "p.add_child(\"with\")\n",
    "adv.add_child(\"slowly\")\n",
    "adj.add_child(\"delicious\")"
   ]
  },
  {
   "cell_type": "code",
   "execution_count": 6,
   "metadata": {},
   "outputs": [
    {
     "name": "stdout",
     "output_type": "stream",
     "text": [
      "Sentence -> NounPhrase VerbPhrase \n",
      "Sentence -> VerbPhrase \n",
      "NounPhrase -> Adjective Noun \n",
      "Adjective -> \"delicious\"\n",
      "Noun -> \"Bob\"\n",
      "Noun -> \"fish\"\n",
      "Noun -> \"sauce\"\n",
      "VerbPhrase -> Verb NounPhrase \n",
      "VerbPhrase -> Verb Adverb NounPhrase \n",
      "VerbPhrase -> Verb PrepositionalPhrase NounPhrase \n",
      "VerbPhrase -> Verb Adverb PrepositionalPhrase NounPhrase \n",
      "VerbPhrase -> Verb NounPhrase \n",
      "VerbPhrase -> Verb PrepositionalPhrase NounPhrase \n",
      "VerbPhrase -> Verb Adverb NounPhrase \n",
      "VerbPhrase -> Verb PrepositionalPhrase Adverb NounPhrase \n",
      "Adverb -> \"slowly\"\n",
      "PrepositionalPhrase -> Preposition NounPhrase \n",
      "Preposition -> \"with\"\n",
      "Verb -> \"eat\"\n",
      "\n"
     ]
    }
   ],
   "source": [
    "print(s)"
   ]
  },
  {
   "cell_type": "code",
   "execution_count": 7,
   "metadata": {},
   "outputs": [],
   "source": [
    "parser = s.get_parser()"
   ]
  },
  {
   "cell_type": "code",
   "execution_count": 9,
   "metadata": {},
   "outputs": [
    {
     "data": {
      "text/plain": [
       "<nltk.parse.chart.Chart at 0x7f94485a8dd8>"
      ]
     },
     "execution_count": 9,
     "metadata": {},
     "output_type": "execute_result"
    }
   ],
   "source": [
    "chart = parser.chart_parse(\"Bob eat fish with delicious sauce\".split())"
   ]
  },
  {
   "cell_type": "code",
   "execution_count": null,
   "metadata": {},
   "outputs": [],
   "source": []
  }
 ],
 "metadata": {
  "kernelspec": {
   "display_name": "base",
   "language": "python",
   "name": "base"
  },
  "language_info": {
   "codemirror_mode": {
    "name": "ipython",
    "version": 3
   },
   "file_extension": ".py",
   "mimetype": "text/x-python",
   "name": "python",
   "nbconvert_exporter": "python",
   "pygments_lexer": "ipython3",
   "version": "3.7.1"
  },
  "neptune": {
   "notebookId": "d9ffe94b-8f89-4d01-bae0-6c1f16298817"
  }
 },
 "nbformat": 4,
 "nbformat_minor": 4
}
