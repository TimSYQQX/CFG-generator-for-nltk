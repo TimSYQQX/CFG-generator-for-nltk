{
 "cells": [
  {
   "cell_type": "code",
   "execution_count": 7,
   "metadata": {},
   "outputs": [],
   "source": [
    "import nltk\n",
    "from CFGTree import *"
   ]
  },
  {
   "cell_type": "markdown",
   "metadata": {},
   "source": [
    "### Node Assignment"
   ]
  },
  {
   "cell_type": "code",
   "execution_count": 8,
   "metadata": {},
   "outputs": [],
   "source": [
    "s = Node(\"Sentence\")\n",
    "np = Node(\"NounPhrase\")\n",
    "vp = Node(\"VerbPhrase\")\n",
    "pp = Node(\"PrepositionalPhrase\")\n",
    "n = Node(\"Noun\")\n",
    "v = Node(\"Verb\")\n",
    "p = Node(\"Preposition\")\n",
    "adv = Node(\"Adverb\")\n",
    "adj = Node(\"Adjective\")"
   ]
  },
  {
   "cell_type": "code",
   "execution_count": 9,
   "metadata": {},
   "outputs": [],
   "source": [
    "s.ext_comb([[np, vp], [vp]])\n",
    "np.ext_comb([[(adj), n]])\n",
    "vp.ext_comb([[v, (adv, pp)]])"
   ]
  },
  {
   "cell_type": "code",
   "execution_count": 11,
   "metadata": {},
   "outputs": [
    {
     "name": "stdout",
     "output_type": "stream",
     "text": [
      "Sentence -> NounPhrase VerbPhrase \n",
      "Sentence -> VerbPhrase \n",
      "NounPhrase -> Adjective Noun \n",
      "VerbPhrase -> Verb \n",
      "VerbPhrase -> Verb Adverb \n",
      "VerbPhrase -> Verb PrepositionalPhrase \n",
      "VerbPhrase -> Verb Adverb PrepositionalPhrase \n",
      "VerbPhrase -> Verb \n",
      "VerbPhrase -> Verb PrepositionalPhrase \n",
      "VerbPhrase -> Verb Adverb \n",
      "VerbPhrase -> Verb PrepositionalPhrase Adverb \n",
      "\n"
     ]
    }
   ],
   "source": [
    "print(s)"
   ]
  },
  {
   "cell_type": "markdown",
   "metadata": {},
   "source": [
    "### Word Assignment"
   ]
  },
  {
   "cell_type": "code",
   "execution_count": null,
   "metadata": {},
   "outputs": [],
   "source": []
  }
 ],
 "metadata": {
  "kernelspec": {
   "display_name": "base",
   "language": "python",
   "name": "base"
  },
  "language_info": {
   "codemirror_mode": {
    "name": "ipython",
    "version": 3
   },
   "file_extension": ".py",
   "mimetype": "text/x-python",
   "name": "python",
   "nbconvert_exporter": "python",
   "pygments_lexer": "ipython3",
   "version": "3.7.1"
  },
  "neptune": {
   "notebookId": "d9ffe94b-8f89-4d01-bae0-6c1f16298817"
  }
 },
 "nbformat": 4,
 "nbformat_minor": 4
}
