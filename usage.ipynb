{
 "cells": [
  {
   "cell_type": "code",
   "execution_count": 1,
   "metadata": {},
   "outputs": [],
   "source": [
    "import nltk\n",
    "from CFGTree import *"
   ]
  },
  {
   "cell_type": "markdown",
   "metadata": {},
   "source": [
    "### Node Assignment"
   ]
  },
  {
   "cell_type": "code",
   "execution_count": 2,
   "metadata": {},
   "outputs": [],
   "source": [
    "s = Node(\"Sentence\")\n",
    "np = Node(\"NounPhrase\")\n",
    "vp = Node(\"VerbPhrase\")\n",
    "pp = Node(\"PrepositionalPhrase\")\n",
    "n = Node(\"Noun\")\n",
    "v = Node(\"Verb\")\n",
    "p = Node(\"Preposition\")\n",
    "adv = Node(\"Adverb\")\n",
    "adj = Node(\"Adjective\")"
   ]
  },
  {
   "cell_type": "code",
   "execution_count": 3,
   "metadata": {},
   "outputs": [],
   "source": [
    "s.ext_comb([[(np,), vp]]) # use tuple to represent optional components\n",
    "np.ext_comb([[(adj,), n]])\n",
    "vp.ext_comb([[v, np, (adv, pp)]]) # all combinations(unordered) in the tuple will be generated\n",
    "pp.ext_comb([[p, np]])"
   ]
  },
  {
   "cell_type": "code",
   "execution_count": 4,
   "metadata": {},
   "outputs": [
    {
     "name": "stdout",
     "output_type": "stream",
     "text": [
      "Sentence -> NounPhrase VerbPhrase \n",
      "Sentence -> VerbPhrase \n",
      "NounPhrase -> Adjective Noun \n",
      "NounPhrase -> Noun \n",
      "VerbPhrase -> Verb NounPhrase PrepositionalPhrase Adverb \n",
      "VerbPhrase -> Verb NounPhrase PrepositionalPhrase \n",
      "VerbPhrase -> Verb NounPhrase Adverb PrepositionalPhrase \n",
      "VerbPhrase -> Verb NounPhrase Adverb \n",
      "VerbPhrase -> Verb NounPhrase \n",
      "PrepositionalPhrase -> Preposition NounPhrase \n",
      "\n"
     ]
    }
   ],
   "source": [
    "print(s)"
   ]
  },
  {
   "cell_type": "markdown",
   "metadata": {},
   "source": [
    "### Word Assignment"
   ]
  },
  {
   "cell_type": "code",
   "execution_count": 5,
   "metadata": {},
   "outputs": [],
   "source": [
    "v.add_word(\"eat\") # a node can't have combination and word at the same time\n",
    "n.add_word(\"Bob fish sauce\")\n",
    "p.add_word(\"with\")\n",
    "adv.add_word(\"slowly\")\n",
    "adj.add_word(\"delicious\")"
   ]
  },
  {
   "cell_type": "code",
   "execution_count": 6,
   "metadata": {},
   "outputs": [
    {
     "name": "stdout",
     "output_type": "stream",
     "text": [
      "Sentence -> NounPhrase VerbPhrase \n",
      "Sentence -> VerbPhrase \n",
      "NounPhrase -> Adjective Noun \n",
      "NounPhrase -> Noun \n",
      "Adjective -> \"delicious\"\n",
      "Noun -> \"Bob\"\n",
      "Noun -> \"fish\"\n",
      "Noun -> \"sauce\"\n",
      "VerbPhrase -> Verb NounPhrase PrepositionalPhrase Adverb \n",
      "VerbPhrase -> Verb NounPhrase PrepositionalPhrase \n",
      "VerbPhrase -> Verb NounPhrase Adverb PrepositionalPhrase \n",
      "VerbPhrase -> Verb NounPhrase Adverb \n",
      "VerbPhrase -> Verb NounPhrase \n",
      "Adverb -> \"slowly\"\n",
      "PrepositionalPhrase -> Preposition NounPhrase \n",
      "Preposition -> \"with\"\n",
      "Verb -> \"eat\"\n",
      "\n"
     ]
    }
   ],
   "source": [
    "print(s)"
   ]
  },
  {
   "cell_type": "code",
   "execution_count": 7,
   "metadata": {},
   "outputs": [],
   "source": [
    "parser = s.get_parser()"
   ]
  },
  {
   "cell_type": "code",
   "execution_count": 8,
   "metadata": {},
   "outputs": [],
   "source": [
    "chart = parser.parse(\"Bob eat fish slowly with delicious sauce\".split())"
   ]
  },
  {
   "cell_type": "code",
   "execution_count": 9,
   "metadata": {},
   "outputs": [
    {
     "name": "stdout",
     "output_type": "stream",
     "text": [
      "(Sentence\n",
      "  (NounPhrase (Noun Bob))\n",
      "  (VerbPhrase\n",
      "    (Verb eat)\n",
      "    (NounPhrase (Noun fish))\n",
      "    (Adverb slowly)\n",
      "    (PrepositionalPhrase\n",
      "      (Preposition with)\n",
      "      (NounPhrase (Adjective delicious) (Noun sauce)))))\n"
     ]
    }
   ],
   "source": [
    "for x in chart:\n",
    "    print(x)"
   ]
  },
  {
   "cell_type": "markdown",
   "metadata": {},
   "source": [
    "### Verb Assignment with tense transformation"
   ]
  },
  {
   "cell_type": "code",
   "execution_count": 10,
   "metadata": {},
   "outputs": [],
   "source": [
    "v_i = Verb(\"IntransitiveVerb\")\n",
    "v_i.add_word(\"eating walked gone\")"
   ]
  },
  {
   "cell_type": "code",
   "execution_count": 11,
   "metadata": {},
   "outputs": [
    {
     "name": "stdout",
     "output_type": "stream",
     "text": [
      "PresentIntransitiveVerb ['eat', 'walk', 'go']\n",
      "PastIntransitiveVerb ['ate', 'walked', 'went']\n",
      "ProgressiveIntransitiveVerb ['eating', 'walking', 'going']\n",
      "PastParticipleIntransitiveVerb ['eaten', 'walked', 'gone']\n",
      "PresentSingularIntransitiveVerb ['eats', 'walks', 'goes']\n"
     ]
    }
   ],
   "source": [
    "for tense in v_i:\n",
    "    print(tense.value, tense.word)\n",
    "# this does not always work so use it at your own risk"
   ]
  },
  {
   "cell_type": "markdown",
   "metadata": {},
   "source": [
    "### Saving Context Free Grammar"
   ]
  },
  {
   "cell_type": "code",
   "execution_count": 12,
   "metadata": {},
   "outputs": [],
   "source": [
    "s.save()"
   ]
  }
 ],
 "metadata": {
  "kernelspec": {
   "display_name": "base",
   "language": "python",
   "name": "base"
  },
  "language_info": {
   "codemirror_mode": {
    "name": "ipython",
    "version": 3
   },
   "file_extension": ".py",
   "mimetype": "text/x-python",
   "name": "python",
   "nbconvert_exporter": "python",
   "pygments_lexer": "ipython3",
   "version": "3.7.1"
  },
  "neptune": {
   "notebookId": "d9ffe94b-8f89-4d01-bae0-6c1f16298817"
  }
 },
 "nbformat": 4,
 "nbformat_minor": 4
}
